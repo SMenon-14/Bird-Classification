{
  "nbformat": 4,
  "nbformat_minor": 0,
  "metadata": {
    "colab": {
      "name": "ImageFilterBrightness-Birds.ipynb",
      "provenance": [],
      "authorship_tag": "ABX9TyNypMtASA5X+IsGWH4iX9u9",
      "include_colab_link": true
    },
    "kernelspec": {
      "name": "python3",
      "display_name": "Python 3"
    },
    "language_info": {
      "name": "python"
    }
  },
  "cells": [
    {
      "cell_type": "markdown",
      "metadata": {
        "id": "view-in-github",
        "colab_type": "text"
      },
      "source": [
        "<a href=\"https://colab.research.google.com/github/SMenon-14/Bird-Classification/blob/main/ImageFilterBrightness_Birds.ipynb\" target=\"_parent\"><img src=\"https://colab.research.google.com/assets/colab-badge.svg\" alt=\"Open In Colab\"/></a>"
      ]
    },
    {
      "cell_type": "code",
      "metadata": {
        "colab": {
          "base_uri": "https://localhost:8080/"
        },
        "id": "NJ4hT1B8sIr5",
        "outputId": "7578a2a8-c3a7-4f46-ca3d-aac38919ff78"
      },
      "source": [
        "from google.colab import drive\n",
        "drive.mount ('/content/gdrive',force_remount=True)\n",
        "print ('hello')"
      ],
      "execution_count": null,
      "outputs": [
        {
          "output_type": "stream",
          "name": "stdout",
          "text": [
            "Mounted at /content/gdrive\n",
            "hello\n"
          ]
        }
      ]
    },
    {
      "cell_type": "code",
      "metadata": {
        "colab": {
          "base_uri": "https://localhost:8080/"
        },
        "id": "_4c6lkNNsSlY",
        "outputId": "f1b1955f-7b42-4ccf-e7e4-3ef906c5c05d"
      },
      "source": [
        "from PIL import Image, ImageFilter, ImageEnhance\n",
        "import os, sys\n",
        "imgCount = 1;\n",
        "animals = [\"Flamingo\", \"Hummingbird\", \"Peacock\"]\n",
        "for item in animals:\n",
        "  imgCount = 41;\n",
        "  os.chdir('/content/gdrive/My Drive/2021TensorflowProjects/BirdClassification/Birds/Training/'+item)\n",
        "  for root, dirs, files in os.walk(\".\"):\n",
        "    for filename in files:\n",
        "      if imgCount < 61:\n",
        "        print (filename)\n",
        "        im = Image.open(filename)\n",
        "        im.show()\n",
        "        f, e = os.path.splitext(filename)\n",
        "        enhancer = ImageEnhance.Brightness(im)\n",
        "        enhanced_im = enhancer.enhance(1.8);\n",
        "        enhanced_im.save('Brighter' + str(imgCount) + ' - ' + item +'.jpg', 'JPEG', quality=90)\n",
        "        print('SavedImages')\n",
        "        imgCount=imgCount+1"
      ],
      "execution_count": null,
      "outputs": [
        {
          "output_type": "stream",
          "name": "stdout",
          "text": [
            "A1 - Flamingo.jpg\n",
            "SavedImages\n",
            "A2 - Flamingo.jpg\n",
            "SavedImages\n",
            "A3 - Flamingo.jpg\n",
            "SavedImages\n",
            "A4 - Flamingo.jpg\n",
            "SavedImages\n",
            "A5 - Flamingo.jpg\n",
            "SavedImages\n",
            "A6 - Flamingo.jpg\n",
            "SavedImages\n",
            "A7 - Flamingo.jpg\n",
            "SavedImages\n",
            "A8 - Flamingo.jpg\n",
            "SavedImages\n",
            "A9 - Flamingo.jpg\n",
            "SavedImages\n",
            "A10 - Flamingo.jpg\n",
            "SavedImages\n",
            "A11 - Flamingo.jpg\n",
            "SavedImages\n",
            "A12 - Flamingo.jpg\n",
            "SavedImages\n",
            "A13 - Flamingo.jpg\n",
            "SavedImages\n",
            "A14 - Flamingo.jpg\n",
            "SavedImages\n",
            "A15 - Flamingo.jpg\n",
            "SavedImages\n",
            "A16 - Flamingo.jpg\n",
            "SavedImages\n",
            "A17 - Flamingo.jpg\n",
            "SavedImages\n",
            "A18 - Flamingo.jpg\n",
            "SavedImages\n",
            "A19 - Flamingo.jpg\n",
            "SavedImages\n",
            "A20 - Flamingo.jpg\n",
            "SavedImages\n",
            "A1 - Hummingbird.jpg\n",
            "SavedImages\n",
            "A2 - Hummingbird.jpg\n",
            "SavedImages\n",
            "A3 - Hummingbird.jpg\n",
            "SavedImages\n",
            "A4 - Hummingbird.jpg\n",
            "SavedImages\n",
            "A5 - Hummingbird.jpg\n",
            "SavedImages\n",
            "A6 - Hummingbird.jpg\n",
            "SavedImages\n",
            "A7 - Hummingbird.jpg\n",
            "SavedImages\n",
            "A8 - Hummingbird.jpg\n",
            "SavedImages\n",
            "A9 - Hummingbird.jpg\n",
            "SavedImages\n",
            "A10 - Hummingbird.jpg\n",
            "SavedImages\n",
            "A11 - Hummingbird.jpg\n",
            "SavedImages\n",
            "A12 - Hummingbird.jpg\n",
            "SavedImages\n",
            "A13 - Hummingbird.jpg\n",
            "SavedImages\n",
            "A14 - Hummingbird.jpg\n",
            "SavedImages\n",
            "A15 - Hummingbird.jpg\n",
            "SavedImages\n",
            "A16 - Hummingbird.jpg\n",
            "SavedImages\n",
            "A17 - Hummingbird.jpg\n",
            "SavedImages\n",
            "A18 - Hummingbird.jpg\n",
            "SavedImages\n",
            "A19 - Hummingbird.jpg\n",
            "SavedImages\n",
            "A20 - Hummingbird.jpg\n",
            "SavedImages\n",
            "A1 - Peacock.jpg\n",
            "SavedImages\n",
            "A2 - Peacock.jpg\n",
            "SavedImages\n",
            "A3 - Peacock.jpg\n",
            "SavedImages\n",
            "A4 - Peacock.jpg\n",
            "SavedImages\n",
            "A5 - Peacock.jpg\n",
            "SavedImages\n",
            "A6 - Peacock.jpg\n",
            "SavedImages\n",
            "A7 - Peacock.jpg\n",
            "SavedImages\n",
            "A8 - Peacock.jpg\n",
            "SavedImages\n",
            "A9 - Peacock.jpg\n",
            "SavedImages\n",
            "A10 - Peacock.jpg\n",
            "SavedImages\n",
            "A11 - Peacock.jpg\n",
            "SavedImages\n",
            "A12 - Peacock.jpg\n",
            "SavedImages\n",
            "A13 - Peacock.jpg\n",
            "SavedImages\n",
            "A14 - Peacock.jpg\n",
            "SavedImages\n",
            "A15 - Peacock.jpg\n",
            "SavedImages\n",
            "A16 - Peacock.jpg\n",
            "SavedImages\n",
            "A17 - Peacock.jpg\n",
            "SavedImages\n",
            "A18 - Peacock.jpg\n",
            "SavedImages\n",
            "A19 - Peacock.jpg\n",
            "SavedImages\n",
            "A20 - Peacock.jpg\n",
            "SavedImages\n"
          ]
        }
      ]
    }
  ]
}