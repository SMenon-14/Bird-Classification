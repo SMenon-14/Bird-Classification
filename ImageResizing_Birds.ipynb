{
  "nbformat": 4,
  "nbformat_minor": 0,
  "metadata": {
    "colab": {
      "name": "ImageResizing-Birds.ipynb",
      "provenance": [],
      "authorship_tag": "ABX9TyMofkTJb3EGb3jUKo1Vji+y",
      "include_colab_link": true
    },
    "kernelspec": {
      "name": "python3",
      "display_name": "Python 3"
    },
    "language_info": {
      "name": "python"
    }
  },
  "cells": [
    {
      "cell_type": "markdown",
      "metadata": {
        "id": "view-in-github",
        "colab_type": "text"
      },
      "source": [
        "<a href=\"https://colab.research.google.com/github/SMenon-14/Bird-Classification/blob/main/ImageResizing_Birds.ipynb\" target=\"_parent\"><img src=\"https://colab.research.google.com/assets/colab-badge.svg\" alt=\"Open In Colab\"/></a>"
      ]
    },
    {
      "cell_type": "code",
      "metadata": {
        "id": "ECnEuEfegDjp",
        "colab": {
          "base_uri": "https://localhost:8080/"
        },
        "outputId": "e3da75a9-9019-4686-e8df-ddba5fbca326"
      },
      "source": [
        "from google.colab import drive\n",
        "drive.mount ('/content/gdrive',force_remount=True)\n",
        "print ('hello')"
      ],
      "execution_count": null,
      "outputs": [
        {
          "output_type": "stream",
          "name": "stdout",
          "text": [
            "Mounted at /content/gdrive\n",
            "hello\n"
          ]
        }
      ]
    },
    {
      "cell_type": "code",
      "metadata": {
        "id": "DVYdE4zUgdIn"
      },
      "source": [
        "from PIL import Image\n",
        "import os, sys\n",
        "imgCount = 1;\n",
        "animals = [\"Flamingo\", \"Hummingbird\", \"Peacock\"]\n",
        "for item in animals:\n",
        "  imgCount = 1;\n",
        "  os.chdir('/content/gdrive/My Drive/2021TensorflowProjects/BirdClassification/Birds/Training/'+item)\n",
        "  for root, dirs, files in os.walk(\".\"):\n",
        "    for filename in files:\n",
        "      print(filename)\n",
        "      print(imgCount)\n",
        "      im = Image.open(filename)\n",
        "      f, e = os.path.splitext(filename)\n",
        "      imResize=im.resize((244, 244), Image.ANTIALIAS)\n",
        "      imResize.save( 'A' + str(imgCount) + ' - ' + item +'.jpg', 'JPEG', quality=90)\n",
        "      print('SavedImages')\n",
        "      imgCount=imgCount+1"
      ],
      "execution_count": null,
      "outputs": []
    }
  ]
}